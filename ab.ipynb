{
 "cells": [
  {
   "cell_type": "code",
   "execution_count": 1,
   "id": "77a6b458-6ccc-42fb-93ef-cf994a9e69ab",
   "metadata": {},
   "outputs": [],
   "source": [
    "import numpy as np\n",
    "import pandas as pd\n",
    "import pandahouse as ph\n",
    "import seaborn as sns\n",
    "from scipy import stats"
   ]
  },
  {
   "cell_type": "code",
   "execution_count": 2,
   "id": "e1110789-e2ab-4e52-995a-99849b636e1a",
   "metadata": {},
   "outputs": [],
   "source": [
    "connection = {\n",
    "    'host': 'https://clickhouse.lab.karpov.courses',\n",
    "    'password': 'dpo_python_2020',\n",
    "    'user': 'student',\n",
    "    'database': 'simulator_20220320'\n",
    "}\n",
    "\n",
    "q = \"\"\"\n",
    "select\n",
    "    exp_group, \n",
    "    user_id,\n",
    "    sum(action = 'like') as likes,\n",
    "    sum(action = 'view') as views,\n",
    "    likes/views as ctr\n",
    "from {db}.feed_actions \n",
    "where\n",
    "    toDate(time) >= '2022-03-15' and toDate(time) <= '2022-03-21'\n",
    "    and exp_group in (1,2)\n",
    "group by exp_group, user_id\n",
    "\"\"\"\n",
    "\n",
    "df = ph.read_clickhouse(q, connection=connection)"
   ]
  },
  {
   "cell_type": "code",
   "execution_count": 3,
   "id": "12f8b75f-d1c6-466e-861a-264e3883ac06",
   "metadata": {},
   "outputs": [
    {
     "data": {
      "text/html": [
       "<div>\n",
       "<style scoped>\n",
       "    .dataframe tbody tr th:only-of-type {\n",
       "        vertical-align: middle;\n",
       "    }\n",
       "\n",
       "    .dataframe tbody tr th {\n",
       "        vertical-align: top;\n",
       "    }\n",
       "\n",
       "    .dataframe thead th {\n",
       "        text-align: right;\n",
       "    }\n",
       "</style>\n",
       "<table border=\"1\" class=\"dataframe\">\n",
       "  <thead>\n",
       "    <tr style=\"text-align: right;\">\n",
       "      <th></th>\n",
       "      <th>exp_group</th>\n",
       "      <th>user_id</th>\n",
       "      <th>likes</th>\n",
       "      <th>views</th>\n",
       "      <th>ctr</th>\n",
       "    </tr>\n",
       "  </thead>\n",
       "  <tbody>\n",
       "    <tr>\n",
       "      <th>0</th>\n",
       "      <td>1</td>\n",
       "      <td>109963</td>\n",
       "      <td>3</td>\n",
       "      <td>15</td>\n",
       "      <td>0.200000</td>\n",
       "    </tr>\n",
       "    <tr>\n",
       "      <th>1</th>\n",
       "      <td>1</td>\n",
       "      <td>26117</td>\n",
       "      <td>32</td>\n",
       "      <td>141</td>\n",
       "      <td>0.226950</td>\n",
       "    </tr>\n",
       "    <tr>\n",
       "      <th>2</th>\n",
       "      <td>1</td>\n",
       "      <td>138232</td>\n",
       "      <td>18</td>\n",
       "      <td>73</td>\n",
       "      <td>0.246575</td>\n",
       "    </tr>\n",
       "    <tr>\n",
       "      <th>3</th>\n",
       "      <td>1</td>\n",
       "      <td>26295</td>\n",
       "      <td>33</td>\n",
       "      <td>122</td>\n",
       "      <td>0.270492</td>\n",
       "    </tr>\n",
       "    <tr>\n",
       "      <th>4</th>\n",
       "      <td>1</td>\n",
       "      <td>18392</td>\n",
       "      <td>7</td>\n",
       "      <td>32</td>\n",
       "      <td>0.218750</td>\n",
       "    </tr>\n",
       "  </tbody>\n",
       "</table>\n",
       "</div>"
      ],
      "text/plain": [
       "   exp_group  user_id  likes  views       ctr\n",
       "0          1   109963      3     15  0.200000\n",
       "1          1    26117     32    141  0.226950\n",
       "2          1   138232     18     73  0.246575\n",
       "3          1    26295     33    122  0.270492\n",
       "4          1    18392      7     32  0.218750"
      ]
     },
     "execution_count": 3,
     "metadata": {},
     "output_type": "execute_result"
    }
   ],
   "source": [
    "df.head()"
   ]
  },
  {
   "cell_type": "markdown",
   "id": "8464fdff-9b8f-4e2d-9c86-f349f975f6ce",
   "metadata": {},
   "source": [
    "#### t-тест"
   ]
  },
  {
   "cell_type": "code",
   "execution_count": 4,
   "id": "c423b8cf-0254-4873-bd47-65ae4f4a80d7",
   "metadata": {},
   "outputs": [
    {
     "name": "stdout",
     "output_type": "stream",
     "text": [
      "0.4781\n",
      "t-тест показывает, что у нас нет оснований отклонить нулевую гипотезу о равенстве средних, то есть новый алгоритм рекомендаций не привел к статистически значимому увеличению ctr\n"
     ]
    }
   ],
   "source": [
    "print(np.round(stats.ttest_ind(df[df.exp_group == 1].ctr, df[df.exp_group == 2].ctr, equal_var=False).pvalue, 4))\n",
    "print('t-тест показывает, что у нас нет оснований отклонить нулевую гипотезу о равенстве средних, то есть новый алгоритм рекомендаций не привел к статистически значимому увеличению ctr')"
   ]
  },
  {
   "cell_type": "markdown",
   "id": "3cd7e273-9ca0-4f09-bb25-ffdc216f5908",
   "metadata": {},
   "source": [
    "#### тест Манна-Уитни"
   ]
  },
  {
   "cell_type": "code",
   "execution_count": 5,
   "id": "39d83ed0-96d8-43ee-9d99-36a622055e09",
   "metadata": {},
   "outputs": [
    {
     "name": "stdout",
     "output_type": "stream",
     "text": [
      "0.0\n",
      "однако тест Манна-Уитни указывает на то, что между выборками есть статистически значимое различие\n"
     ]
    }
   ],
   "source": [
    "print(np.round(stats.mannwhitneyu(df[df.exp_group == 1].ctr, df[df.exp_group == 2].ctr, alternative = 'two-sided').pvalue, 4))\n",
    "print('однако тест Манна-Уитни указывает на то, что между выборками есть статистически значимое различие')"
   ]
  },
  {
   "cell_type": "markdown",
   "id": "1336baec-cee6-42db-9fa8-3718d1eab148",
   "metadata": {},
   "source": [
    "#### t-тест для сглаженного ctr"
   ]
  },
  {
   "cell_type": "code",
   "execution_count": 6,
   "id": "b7c43d31-d65f-4830-aa76-e756e9ca6119",
   "metadata": {},
   "outputs": [],
   "source": [
    "def get_smothed_ctr(user_likes, user_views, global_ctr, alpha):\n",
    "    smothed_ctr = (user_likes + alpha * global_ctr) / (user_views + alpha)\n",
    "    return smothed_ctr"
   ]
  },
  {
   "cell_type": "code",
   "execution_count": 7,
   "id": "21a9a33a-bb1b-4744-ae4a-d6867f1fa48b",
   "metadata": {},
   "outputs": [],
   "source": [
    "global_ctr_1 = df[df.exp_group == 1].likes.sum() / df[df.exp_group == 1].views.sum()\n",
    "global_ctr_2 = df[df.exp_group == 2].likes.sum() / df[df.exp_group == 2].views.sum()\n",
    "\n",
    "group_1 = df[df.exp_group == 1].copy()\n",
    "group_1['sctr'] = group_1.apply(lambda x: get_smothed_ctr(x['likes'], x['views'], global_ctr_1, 5), axis=1)\n",
    "\n",
    "group_2 = df[df.exp_group == 2].copy()\n",
    "group_2['sctr'] = group_2.apply(lambda x: get_smothed_ctr(x['likes'], x['views'], global_ctr_2, 5), axis=1)"
   ]
  },
  {
   "cell_type": "code",
   "execution_count": 8,
   "id": "9b674543-deae-4f64-ae6d-bb2055540269",
   "metadata": {},
   "outputs": [
    {
     "name": "stdout",
     "output_type": "stream",
     "text": [
      "0.0224\n",
      "t-тест показывает, что между выборками есть статистически значимое различие по сглаженному ctr\n"
     ]
    }
   ],
   "source": [
    "print(np.round(stats.ttest_ind(group_1.sctr, group_2.sctr, equal_var=False).pvalue, 4))\n",
    "print('t-тест показывает, что между выборками есть статистически значимое различие по сглаженному ctr')"
   ]
  },
  {
   "cell_type": "markdown",
   "id": "82712ef4-b43c-456e-a87c-3c9ea80992b8",
   "metadata": {},
   "source": [
    "#### пуассоновский бутстреп"
   ]
  },
  {
   "cell_type": "code",
   "execution_count": 9,
   "id": "870a9024-a173-4d0e-89cc-e6b89821cd64",
   "metadata": {},
   "outputs": [],
   "source": [
    "def bootstrap(likes1, views1, likes2, views2, n_bootstrap=2000):\n",
    "\n",
    "    poisson_bootstraps1 = stats.poisson(1).rvs(\n",
    "        (n_bootstrap, len(likes1))).astype(np.int64)\n",
    "\n",
    "    poisson_bootstraps2 = stats.poisson(1).rvs(\n",
    "            (n_bootstrap, len(likes2))).astype(np.int64)\n",
    "    \n",
    "    globalCTR1 = (poisson_bootstraps1*likes1).sum(axis=1)/(poisson_bootstraps1*views1).sum(axis=1)\n",
    "    \n",
    "    globalCTR2 = (poisson_bootstraps2*likes2).sum(axis=1)/(poisson_bootstraps2*views2).sum(axis=1)\n",
    "\n",
    "    return globalCTR1, globalCTR2"
   ]
  },
  {
   "cell_type": "code",
   "execution_count": 10,
   "id": "fea2fbb9-bd92-46e5-8b94-c6b16756e900",
   "metadata": {},
   "outputs": [
    {
     "data": {
      "text/plain": [
       "<AxesSubplot:ylabel='Count'>"
      ]
     },
     "execution_count": 10,
     "metadata": {},
     "output_type": "execute_result"
    },
    {
     "data": {
      "image/png": "[encoded data removed]",
      "text/plain": [
       "<Figure size 432x288 with 1 Axes>"
      ]
     },
     "metadata": {
      "needs_background": "light"
     },
     "output_type": "display_data"
    }
   ],
   "source": [
    "likes1 = df[df.exp_group == 1].likes.to_numpy()\n",
    "views1 = df[df.exp_group == 1].views.to_numpy()\n",
    "\n",
    "likes2 = df[df.exp_group == 2].likes.to_numpy()\n",
    "views2 = df[df.exp_group == 2].views.to_numpy()\n",
    "\n",
    "ctr1, ctr2 = bootstrap(likes1, views1, likes2, views2)\n",
    "\n",
    "sns.histplot(ctr1, color='b')\n",
    "sns.histplot(ctr2, color='m')"
   ]
  },
  {
   "cell_type": "code",
   "execution_count": 11,
   "id": "0e3e0f1f-bc46-453d-895f-8cd5e0150ec8",
   "metadata": {},
   "outputs": [
    {
     "data": {
      "text/plain": [
       "<AxesSubplot:ylabel='Count'>"
      ]
     },
     "execution_count": 11,
     "metadata": {},
     "output_type": "execute_result"
    },
    {
     "data": {
      "image/png": "[encoded data removed]",
      "text/plain": [
       "<Figure size 432x288 with 1 Axes>"
      ]
     },
     "metadata": {
      "needs_background": "light"
     },
     "output_type": "display_data"
    }
   ],
   "source": [
    "sns.histplot(ctr2 - ctr1, color='c')"
   ]
  },
  {
   "cell_type": "code",
   "execution_count": 12,
   "id": "906dec8c-3d18-471a-a2f6-9d5f057c3e8e",
   "metadata": {},
   "outputs": [
    {
     "name": "stdout",
     "output_type": "stream",
     "text": [
      "пуассоновский бутстреп указывает на статистически значимое различие между распределениями ctr, гистограммы не пересекаются\n"
     ]
    }
   ],
   "source": [
    "print('пуассоновский бутстреп указывает на статистически значимое различие между распределениями ctr, гистограммы не пересекаются')"
   ]
  },
  {
   "cell_type": "markdown",
   "id": "d5f5957f-7c25-437c-ab6a-a7f9daae279e",
   "metadata": {},
   "source": [
    "#### бакетное преобразование"
   ]
  },
  {
   "cell_type": "code",
   "execution_count": 13,
   "id": "236e74fb-143c-4b48-9c22-316dc4b619cd",
   "metadata": {},
   "outputs": [],
   "source": [
    "qb = \"\"\"\n",
    "select\n",
    "    exp_group, bucket,\n",
    "    sum(likes) / sum(views) as bucket_ctr\n",
    "from (\n",
    "    select\n",
    "        exp_group, \n",
    "        xxHash64(user_id)%50 as bucket,\n",
    "        user_id,\n",
    "        sum(action = 'like') as likes,\n",
    "        sum(action = 'view') as views,\n",
    "        likes / views as ctr\n",
    "    from {db}.feed_actions \n",
    "    where\n",
    "        toDate(time) >= '2022-03-15' and toDate(time) <= '2022-03-21'\n",
    "        and exp_group in (1,2)\n",
    "    group by exp_group, bucket, user_id\n",
    "    )\n",
    "group by exp_group, bucket\n",
    "\"\"\"\n",
    "\n",
    "dfb = ph.read_clickhouse(qb, connection=connection)"
   ]
  },
  {
   "cell_type": "code",
   "execution_count": 14,
   "id": "a2c87716-2242-4f90-9bf6-7418f134adc8",
   "metadata": {},
   "outputs": [
    {
     "data": {
      "text/html": [
       "<div>\n",
       "<style scoped>\n",
       "    .dataframe tbody tr th:only-of-type {\n",
       "        vertical-align: middle;\n",
       "    }\n",
       "\n",
       "    .dataframe tbody tr th {\n",
       "        vertical-align: top;\n",
       "    }\n",
       "\n",
       "    .dataframe thead th {\n",
       "        text-align: right;\n",
       "    }\n",
       "</style>\n",
       "<table border=\"1\" class=\"dataframe\">\n",
       "  <thead>\n",
       "    <tr style=\"text-align: right;\">\n",
       "      <th></th>\n",
       "      <th>exp_group</th>\n",
       "      <th>bucket</th>\n",
       "      <th>bucket_ctr</th>\n",
       "    </tr>\n",
       "  </thead>\n",
       "  <tbody>\n",
       "    <tr>\n",
       "      <th>0</th>\n",
       "      <td>1</td>\n",
       "      <td>0</td>\n",
       "      <td>0.196481</td>\n",
       "    </tr>\n",
       "    <tr>\n",
       "      <th>1</th>\n",
       "      <td>2</td>\n",
       "      <td>0</td>\n",
       "      <td>0.194262</td>\n",
       "    </tr>\n",
       "    <tr>\n",
       "      <th>2</th>\n",
       "      <td>1</td>\n",
       "      <td>1</td>\n",
       "      <td>0.211887</td>\n",
       "    </tr>\n",
       "    <tr>\n",
       "      <th>3</th>\n",
       "      <td>2</td>\n",
       "      <td>1</td>\n",
       "      <td>0.215328</td>\n",
       "    </tr>\n",
       "    <tr>\n",
       "      <th>4</th>\n",
       "      <td>1</td>\n",
       "      <td>2</td>\n",
       "      <td>0.206271</td>\n",
       "    </tr>\n",
       "  </tbody>\n",
       "</table>\n",
       "</div>"
      ],
      "text/plain": [
       "   exp_group  bucket  bucket_ctr\n",
       "0          1       0    0.196481\n",
       "1          2       0    0.194262\n",
       "2          1       1    0.211887\n",
       "3          2       1    0.215328\n",
       "4          1       2    0.206271"
      ]
     },
     "execution_count": 14,
     "metadata": {},
     "output_type": "execute_result"
    }
   ],
   "source": [
    "dfb.head()"
   ]
  },
  {
   "cell_type": "code",
   "execution_count": 15,
   "id": "2d0d6118-31ec-4e56-8086-3896484fec52",
   "metadata": {},
   "outputs": [
    {
     "name": "stdout",
     "output_type": "stream",
     "text": [
      "MW-test: 0.0\n",
      "t-test: 0.0\n",
      "при использовании бакетного преобразования оба теста видят различие между выборками\n"
     ]
    }
   ],
   "source": [
    "print(f'MW-test: {np.round(stats.mannwhitneyu(dfb[dfb.exp_group == 1].bucket_ctr, dfb[dfb.exp_group == 2].bucket_ctr, alternative=\"two-sided\").pvalue, 4)}')\n",
    "print(f't-test: {np.round(stats.ttest_ind(dfb[dfb.exp_group == 1].bucket_ctr, dfb[dfb.exp_group == 2].bucket_ctr, equal_var=False).pvalue, 4)}')\n",
    "print(f'при использовании бакетного преобразования оба теста видят различие между выборками')"
   ]
  },
  {
   "cell_type": "markdown",
   "id": "4f672331-bbe2-49c2-9882-39a511740d44",
   "metadata": {},
   "source": [
    "#### гистограммы ctr"
   ]
  },
  {
   "cell_type": "code",
   "execution_count": 16,
   "id": "542e3f00-941d-47e7-88bf-d30abe2061da",
   "metadata": {},
   "outputs": [
    {
     "data": {
      "text/plain": [
       "<AxesSubplot:xlabel='ctr', ylabel='Count'>"
      ]
     },
     "execution_count": 16,
     "metadata": {},
     "output_type": "execute_result"
    },
    {
     "data": {
      "image/png": "[encoded data removed]",
      "text/plain": [
       "<Figure size 432x288 with 1 Axes>"
      ]
     },
     "metadata": {
      "needs_background": "light"
     },
     "output_type": "display_data"
    }
   ],
   "source": [
    "sns.histplot(data=df, x='ctr', hue='exp_group')"
   ]
  },
  {
   "cell_type": "code",
   "execution_count": 17,
   "id": "846f2f1c-7bed-4fad-bdcc-ba1c5c555c3c",
   "metadata": {},
   "outputs": [
    {
     "data": {
      "text/plain": [
       "0.2156"
      ]
     },
     "execution_count": 17,
     "metadata": {},
     "output_type": "execute_result"
    }
   ],
   "source": [
    "np.round(df[df.exp_group == 1].ctr.mean(), 4)"
   ]
  },
  {
   "cell_type": "code",
   "execution_count": 18,
   "id": "8f6105bb-49c2-4087-ac32-6e2b07c6b011",
   "metadata": {},
   "outputs": [
    {
     "data": {
      "text/plain": [
       "0.2144"
      ]
     },
     "execution_count": 18,
     "metadata": {},
     "output_type": "execute_result"
    }
   ],
   "source": [
    "np.round(df[df.exp_group == 2].ctr.mean(), 4)"
   ]
  },
  {
   "cell_type": "markdown",
   "id": "4e495351-254a-4b75-9847-63d1d8218a22",
   "metadata": {},
   "source": [
    "#### выводы"
   ]
  },
  {
   "cell_type": "markdown",
   "id": "412bb5e6-8d16-4947-81e4-c45c5612fabf",
   "metadata": {},
   "source": [
    "Тогда как обычный t-тест указывает на отсутствие статистически значимого различия между двумя группами в плане ctr, все прочие методы фиксируют наличие отличий между двумя выборками.<br><br>\n",
    "Посмотрев на гисторгаммы ctr и оценив средние значения двух выборок, можно заметить, что распределение для группы с новым алгоритмом рекомендаций имеет иной вид (в частности, бимодальное и скошенность), однако примерно то же среднее значение (из-за чего t-тест не прокрасился).<br><br>Таким образом, можно сделать заключение, что ctr для двух групп все-таки имеет различное распределение. Применение нового алгоритма повышает вовлеченность какой-то подгруппы пользователей, тогда как пользовательский опыт другой группы значительно ухудшается.<br><br>Я бы не рекомендовал внедрение такого алгоритма. Кажется, что повышение ctr одной подгруппы будет достигнуто ценой постепенного оттока другой подгруппы пользователей."
   ]
  },
  {
   "cell_type": "code",
   "execution_count": null,
   "id": "35d35219-1b3e-4e65-9ca4-e74df4600554",
   "metadata": {},
   "outputs": [],
   "source": []
  }
 ],
 "metadata": {
  "kernelspec": {
   "display_name": "Python 3 (ipykernel)",
   "language": "python",
   "name": "python3"
  },
  "language_info": {
   "codemirror_mode": {
    "name": "ipython",
    "version": 3
   },
   "file_extension": ".py",
   "mimetype": "text/x-python",
   "name": "python",
   "nbconvert_exporter": "python",
   "pygments_lexer": "ipython3",
   "version": "3.8.10"
  }
 },
 "nbformat": 4,
 "nbformat_minor": 5
}
