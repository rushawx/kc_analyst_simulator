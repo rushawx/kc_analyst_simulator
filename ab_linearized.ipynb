{
 "cells": [
  {
   "cell_type": "code",
   "execution_count": 1,
   "id": "77a6b458-6ccc-42fb-93ef-cf994a9e69ab",
   "metadata": {},
   "outputs": [],
   "source": [
    "import numpy as np\n",
    "import pandas as pd\n",
    "import pandahouse as ph\n",
    "import seaborn as sns\n",
    "from scipy import stats\n",
    "\n",
    "import warnings\n",
    "warnings.filterwarnings(\"ignore\")"
   ]
  },
  {
   "cell_type": "code",
   "execution_count": 2,
   "id": "e1110789-e2ab-4e52-995a-99849b636e1a",
   "metadata": {},
   "outputs": [],
   "source": [
    "connection = {\n",
    "    'host': 'https://clickhouse.lab.karpov.courses',\n",
    "    'password': 'dpo_python_2020',\n",
    "    'user': 'student',\n",
    "    'database': 'simulator_20220320'\n",
    "}"
   ]
  },
  {
   "cell_type": "code",
   "execution_count": 3,
   "id": "8dae8698-fd89-480c-9cd3-196fd4f84757",
   "metadata": {},
   "outputs": [
    {
     "data": {
      "text/html": [
       "<div>\n",
       "<style scoped>\n",
       "    .dataframe tbody tr th:only-of-type {\n",
       "        vertical-align: middle;\n",
       "    }\n",
       "\n",
       "    .dataframe tbody tr th {\n",
       "        vertical-align: top;\n",
       "    }\n",
       "\n",
       "    .dataframe thead th {\n",
       "        text-align: right;\n",
       "    }\n",
       "</style>\n",
       "<table border=\"1\" class=\"dataframe\">\n",
       "  <thead>\n",
       "    <tr style=\"text-align: right;\">\n",
       "      <th></th>\n",
       "      <th>exp_group</th>\n",
       "      <th>user_id</th>\n",
       "      <th>likes</th>\n",
       "      <th>views</th>\n",
       "      <th>ctr</th>\n",
       "    </tr>\n",
       "  </thead>\n",
       "  <tbody>\n",
       "    <tr>\n",
       "      <th>0</th>\n",
       "      <td>1</td>\n",
       "      <td>109963</td>\n",
       "      <td>3</td>\n",
       "      <td>15</td>\n",
       "      <td>0.200000</td>\n",
       "    </tr>\n",
       "    <tr>\n",
       "      <th>1</th>\n",
       "      <td>1</td>\n",
       "      <td>26117</td>\n",
       "      <td>32</td>\n",
       "      <td>141</td>\n",
       "      <td>0.226950</td>\n",
       "    </tr>\n",
       "    <tr>\n",
       "      <th>2</th>\n",
       "      <td>1</td>\n",
       "      <td>138232</td>\n",
       "      <td>18</td>\n",
       "      <td>73</td>\n",
       "      <td>0.246575</td>\n",
       "    </tr>\n",
       "    <tr>\n",
       "      <th>3</th>\n",
       "      <td>1</td>\n",
       "      <td>26295</td>\n",
       "      <td>33</td>\n",
       "      <td>122</td>\n",
       "      <td>0.270492</td>\n",
       "    </tr>\n",
       "    <tr>\n",
       "      <th>4</th>\n",
       "      <td>1</td>\n",
       "      <td>18392</td>\n",
       "      <td>7</td>\n",
       "      <td>32</td>\n",
       "      <td>0.218750</td>\n",
       "    </tr>\n",
       "  </tbody>\n",
       "</table>\n",
       "</div>"
      ],
      "text/plain": [
       "   exp_group  user_id  likes  views       ctr\n",
       "0          1   109963      3     15  0.200000\n",
       "1          1    26117     32    141  0.226950\n",
       "2          1   138232     18     73  0.246575\n",
       "3          1    26295     33    122  0.270492\n",
       "4          1    18392      7     32  0.218750"
      ]
     },
     "execution_count": 3,
     "metadata": {},
     "output_type": "execute_result"
    }
   ],
   "source": [
    "q12 = \"\"\"\n",
    "select\n",
    "    exp_group, \n",
    "    user_id,\n",
    "    sum(action = 'like') as likes,\n",
    "    sum(action = 'view') as views,\n",
    "    likes/views as ctr\n",
    "from {db}.feed_actions \n",
    "where\n",
    "    toDate(time) >= '2022-03-15' and toDate(time) <= '2022-03-21'\n",
    "    and exp_group in (1,2)\n",
    "group by exp_group, user_id\n",
    "\"\"\"\n",
    "df12 = ph.read_clickhouse(q12, connection=connection)\n",
    "df12.head()"
   ]
  },
  {
   "cell_type": "code",
   "execution_count": 4,
   "id": "12f8b75f-d1c6-466e-861a-264e3883ac06",
   "metadata": {},
   "outputs": [
    {
     "data": {
      "text/html": [
       "<div>\n",
       "<style scoped>\n",
       "    .dataframe tbody tr th:only-of-type {\n",
       "        vertical-align: middle;\n",
       "    }\n",
       "\n",
       "    .dataframe tbody tr th {\n",
       "        vertical-align: top;\n",
       "    }\n",
       "\n",
       "    .dataframe thead th {\n",
       "        text-align: right;\n",
       "    }\n",
       "</style>\n",
       "<table border=\"1\" class=\"dataframe\">\n",
       "  <thead>\n",
       "    <tr style=\"text-align: right;\">\n",
       "      <th></th>\n",
       "      <th>exp_group</th>\n",
       "      <th>user_id</th>\n",
       "      <th>likes</th>\n",
       "      <th>views</th>\n",
       "      <th>ctr</th>\n",
       "    </tr>\n",
       "  </thead>\n",
       "  <tbody>\n",
       "    <tr>\n",
       "      <th>0</th>\n",
       "      <td>3</td>\n",
       "      <td>115383</td>\n",
       "      <td>9</td>\n",
       "      <td>30</td>\n",
       "      <td>0.300000</td>\n",
       "    </tr>\n",
       "    <tr>\n",
       "      <th>1</th>\n",
       "      <td>3</td>\n",
       "      <td>123580</td>\n",
       "      <td>13</td>\n",
       "      <td>48</td>\n",
       "      <td>0.270833</td>\n",
       "    </tr>\n",
       "    <tr>\n",
       "      <th>2</th>\n",
       "      <td>0</td>\n",
       "      <td>4944</td>\n",
       "      <td>8</td>\n",
       "      <td>41</td>\n",
       "      <td>0.195122</td>\n",
       "    </tr>\n",
       "    <tr>\n",
       "      <th>3</th>\n",
       "      <td>0</td>\n",
       "      <td>4504</td>\n",
       "      <td>5</td>\n",
       "      <td>15</td>\n",
       "      <td>0.333333</td>\n",
       "    </tr>\n",
       "    <tr>\n",
       "      <th>4</th>\n",
       "      <td>0</td>\n",
       "      <td>121508</td>\n",
       "      <td>18</td>\n",
       "      <td>88</td>\n",
       "      <td>0.204545</td>\n",
       "    </tr>\n",
       "  </tbody>\n",
       "</table>\n",
       "</div>"
      ],
      "text/plain": [
       "   exp_group  user_id  likes  views       ctr\n",
       "0          3   115383      9     30  0.300000\n",
       "1          3   123580     13     48  0.270833\n",
       "2          0     4944      8     41  0.195122\n",
       "3          0     4504      5     15  0.333333\n",
       "4          0   121508     18     88  0.204545"
      ]
     },
     "execution_count": 4,
     "metadata": {},
     "output_type": "execute_result"
    }
   ],
   "source": [
    "q03 = \"\"\"\n",
    "select\n",
    "    exp_group, \n",
    "    user_id,\n",
    "    sum(action = 'like') as likes,\n",
    "    sum(action = 'view') as views,\n",
    "    likes/views as ctr\n",
    "from {db}.feed_actions \n",
    "where\n",
    "    toDate(time) >= '2022-03-15' and toDate(time) <= '2022-03-21'\n",
    "    and exp_group in (0,3)\n",
    "group by exp_group, user_id\n",
    "\"\"\"\n",
    "df03 = ph.read_clickhouse(q03, connection=connection)\n",
    "df03.head()"
   ]
  },
  {
   "cell_type": "markdown",
   "id": "cd3ffc23-686b-475b-97e3-04220f0ae111",
   "metadata": {},
   "source": [
    "#### linearized_likes"
   ]
  },
  {
   "cell_type": "code",
   "execution_count": 5,
   "id": "5668ea21-717e-4d69-9719-71da73d8b054",
   "metadata": {},
   "outputs": [],
   "source": [
    "def get_linearized_likes(user_likes, user_views, control_ctr):\n",
    "    linearized_likes = user_likes - control_ctr * user_views\n",
    "    return linearized_likes"
   ]
  },
  {
   "cell_type": "code",
   "execution_count": 6,
   "id": "42d8a37d-a727-4889-b495-0bd6b08745df",
   "metadata": {},
   "outputs": [
    {
     "name": "stdout",
     "output_type": "stream",
     "text": [
      "0.208\n",
      "0.2082\n"
     ]
    }
   ],
   "source": [
    "control_ctr_1 = df12[df12['exp_group'] == 1].likes.sum() / df12[df12['exp_group'] == 1].views.sum()\n",
    "print(np.round(control_ctr_1, 4))\n",
    "\n",
    "control_ctr_0 = df03[df03['exp_group'] == 0].likes.sum() / df03[df03['exp_group'] == 0].views.sum()\n",
    "print(np.round(control_ctr_0, 4))"
   ]
  },
  {
   "cell_type": "code",
   "execution_count": 7,
   "id": "017b8b2d-cbb7-474c-9b7b-a38f61c4843d",
   "metadata": {},
   "outputs": [],
   "source": [
    "df12['linear_likes'] = df12.apply(lambda x: get_linearized_likes(x['likes'], x['views'], control_ctr_1), axis=1)\n",
    "df03['linear_likes'] = df03.apply(lambda x: get_linearized_likes(x['likes'], x['views'], control_ctr_0), axis=1)"
   ]
  },
  {
   "cell_type": "markdown",
   "id": "8464fdff-9b8f-4e2d-9c86-f349f975f6ce",
   "metadata": {},
   "source": [
    "#### t-тест и гистограммы для теста на группах 1 и 2"
   ]
  },
  {
   "cell_type": "code",
   "execution_count": 8,
   "id": "c423b8cf-0254-4873-bd47-65ae4f4a80d7",
   "metadata": {},
   "outputs": [
    {
     "name": "stdout",
     "output_type": "stream",
     "text": [
      "pvalue для ctr: 0.4781\n",
      "pvalue для линеаризованных лайков: 0.0\n",
      "t-тест после линеаризации лайков позволяет зафиксировать разницу между группами 1 и 2\n"
     ]
    }
   ],
   "source": [
    "print(f'pvalue для ctr: {np.round(stats.ttest_ind(df12[df12.exp_group == 1].ctr, df12[df12.exp_group == 2].ctr, equal_var=False).pvalue, 4)}')\n",
    "print(f'pvalue для линеаризованных лайков: {np.round(stats.ttest_ind(df12[df12.exp_group == 1].linear_likes, df12[df12.exp_group == 2].linear_likes, equal_var=False).pvalue, 4)}')\n",
    "print('t-тест после линеаризации лайков позволяет зафиксировать разницу между группами 1 и 2')"
   ]
  },
  {
   "cell_type": "code",
   "execution_count": 9,
   "id": "e727f5eb-f9f9-4da9-aebb-9f6e64334444",
   "metadata": {},
   "outputs": [
    {
     "data": {
      "text/html": [
       "<div>\n",
       "<style scoped>\n",
       "    .dataframe tbody tr th:only-of-type {\n",
       "        vertical-align: middle;\n",
       "    }\n",
       "\n",
       "    .dataframe tbody tr th {\n",
       "        vertical-align: top;\n",
       "    }\n",
       "\n",
       "    .dataframe thead th {\n",
       "        text-align: right;\n",
       "    }\n",
       "</style>\n",
       "<table border=\"1\" class=\"dataframe\">\n",
       "  <thead>\n",
       "    <tr style=\"text-align: right;\">\n",
       "      <th></th>\n",
       "      <th>ctr</th>\n",
       "      <th>linear_likes</th>\n",
       "    </tr>\n",
       "    <tr>\n",
       "      <th>exp_group</th>\n",
       "      <th></th>\n",
       "      <th></th>\n",
       "    </tr>\n",
       "  </thead>\n",
       "  <tbody>\n",
       "    <tr>\n",
       "      <th>1</th>\n",
       "      <td>0.2156</td>\n",
       "      <td>-0.0000</td>\n",
       "    </tr>\n",
       "    <tr>\n",
       "      <th>2</th>\n",
       "      <td>0.2144</td>\n",
       "      <td>-0.6593</td>\n",
       "    </tr>\n",
       "  </tbody>\n",
       "</table>\n",
       "</div>"
      ],
      "text/plain": [
       "              ctr  linear_likes\n",
       "exp_group                      \n",
       "1          0.2156       -0.0000\n",
       "2          0.2144       -0.6593"
      ]
     },
     "execution_count": 9,
     "metadata": {},
     "output_type": "execute_result"
    }
   ],
   "source": [
    "df12.groupby(['exp_group'])['ctr', 'linear_likes'].mean().round(4)"
   ]
  },
  {
   "cell_type": "code",
   "execution_count": 10,
   "id": "1e5b3184-1680-4315-abf3-04980af499ec",
   "metadata": {},
   "outputs": [
    {
     "data": {
      "text/plain": [
       "<AxesSubplot:xlabel='ctr', ylabel='Count'>"
      ]
     },
     "execution_count": 10,
     "metadata": {},
     "output_type": "execute_result"
    },
    {
     "data": {
      "image/png": "[encoded data removed]",
      "text/plain": [
       "<Figure size 432x288 with 1 Axes>"
      ]
     },
     "metadata": {
      "needs_background": "light"
     },
     "output_type": "display_data"
    }
   ],
   "source": [
    "sns.histplot(data=df12, x='ctr', hue='exp_group')"
   ]
  },
  {
   "cell_type": "code",
   "execution_count": 11,
   "id": "7db26c4f-f09d-4e9f-b9b0-6076b7072ccf",
   "metadata": {},
   "outputs": [
    {
     "data": {
      "text/plain": [
       "<AxesSubplot:xlabel='linear_likes', ylabel='Count'>"
      ]
     },
     "execution_count": 11,
     "metadata": {},
     "output_type": "execute_result"
    },
    {
     "data": {
      "image/png": "[encoded data removed]",
      "text/plain": [
       "<Figure size 432x288 with 1 Axes>"
      ]
     },
     "metadata": {
      "needs_background": "light"
     },
     "output_type": "display_data"
    }
   ],
   "source": [
    "sns.histplot(data=df12, x='linear_likes', hue='exp_group')"
   ]
  },
  {
   "cell_type": "markdown",
   "id": "ce97bb2b-396e-4007-a507-e6546e7d2452",
   "metadata": {},
   "source": [
    "#### t-тест и гистограммы для теста на группах 0 и 3"
   ]
  },
  {
   "cell_type": "code",
   "execution_count": 12,
   "id": "35d35219-1b3e-4e65-9ca4-e74df4600554",
   "metadata": {},
   "outputs": [
    {
     "name": "stdout",
     "output_type": "stream",
     "text": [
      "pvalue для ctr: 0.0\n",
      "pvalue для линеаризованных лайков: 0.0\n",
      "t-тест фиксирует разницу между группами 0 и 3 по обеим метрикам\n"
     ]
    }
   ],
   "source": [
    "print(f'pvalue для ctr: {np.round(stats.ttest_ind(df03[df03.exp_group == 0].ctr, df03[df03.exp_group == 3].ctr, equal_var=False).pvalue, 4)}')\n",
    "print(f'pvalue для линеаризованных лайков: {np.round(stats.ttest_ind(df03[df03.exp_group == 0].linear_likes, df03[df03.exp_group == 3].linear_likes, equal_var=False).pvalue, 4)}')\n",
    "print('t-тест фиксирует разницу между группами 0 и 3 по обеим метрикам')"
   ]
  },
  {
   "cell_type": "code",
   "execution_count": 13,
   "id": "b0e5214c-8e5f-459d-b075-ad803c511236",
   "metadata": {},
   "outputs": [
    {
     "data": {
      "text/html": [
       "<div>\n",
       "<style scoped>\n",
       "    .dataframe tbody tr th:only-of-type {\n",
       "        vertical-align: middle;\n",
       "    }\n",
       "\n",
       "    .dataframe tbody tr th {\n",
       "        vertical-align: top;\n",
       "    }\n",
       "\n",
       "    .dataframe thead th {\n",
       "        text-align: right;\n",
       "    }\n",
       "</style>\n",
       "<table border=\"1\" class=\"dataframe\">\n",
       "  <thead>\n",
       "    <tr style=\"text-align: right;\">\n",
       "      <th></th>\n",
       "      <th>ctr</th>\n",
       "      <th>linear_likes</th>\n",
       "    </tr>\n",
       "    <tr>\n",
       "      <th>exp_group</th>\n",
       "      <th></th>\n",
       "      <th></th>\n",
       "    </tr>\n",
       "  </thead>\n",
       "  <tbody>\n",
       "    <tr>\n",
       "      <th>0</th>\n",
       "      <td>0.2159</td>\n",
       "      <td>0.0000</td>\n",
       "    </tr>\n",
       "    <tr>\n",
       "      <th>3</th>\n",
       "      <td>0.2326</td>\n",
       "      <td>1.0713</td>\n",
       "    </tr>\n",
       "  </tbody>\n",
       "</table>\n",
       "</div>"
      ],
      "text/plain": [
       "              ctr  linear_likes\n",
       "exp_group                      \n",
       "0          0.2159        0.0000\n",
       "3          0.2326        1.0713"
      ]
     },
     "execution_count": 13,
     "metadata": {},
     "output_type": "execute_result"
    }
   ],
   "source": [
    "df03.groupby(['exp_group'])['ctr', 'linear_likes'].mean().round(4)"
   ]
  },
  {
   "cell_type": "code",
   "execution_count": 14,
   "id": "bae50169-95ab-42ee-9d8b-73f5f1e8eef1",
   "metadata": {},
   "outputs": [
    {
     "data": {
      "text/plain": [
       "<AxesSubplot:xlabel='ctr', ylabel='Count'>"
      ]
     },
     "execution_count": 14,
     "metadata": {},
     "output_type": "execute_result"
    },
    {
     "data": {
      "image/png": "[encoded data removed]",
      "text/plain": [
       "<Figure size 432x288 with 1 Axes>"
      ]
     },
     "metadata": {
      "needs_background": "light"
     },
     "output_type": "display_data"
    }
   ],
   "source": [
    "sns.histplot(data=df03, x='ctr', hue='exp_group')"
   ]
  },
  {
   "cell_type": "code",
   "execution_count": 15,
   "id": "19fa5b4e-3d87-46f5-9ff5-f9f0259e5926",
   "metadata": {},
   "outputs": [
    {
     "data": {
      "text/plain": [
       "<AxesSubplot:xlabel='linear_likes', ylabel='Count'>"
      ]
     },
     "execution_count": 15,
     "metadata": {},
     "output_type": "execute_result"
    },
    {
     "data": {
      "image/png": "[encoded data removed]",
      "text/plain": [
       "<Figure size 432x288 with 1 Axes>"
      ]
     },
     "metadata": {
      "needs_background": "light"
     },
     "output_type": "display_data"
    }
   ],
   "source": [
    "sns.histplot(data=df03, x='linear_likes', hue='exp_group')"
   ]
  }
 ],
 "metadata": {
  "kernelspec": {
   "display_name": "Python 3 (ipykernel)",
   "language": "python",
   "name": "python3"
  },
  "language_info": {
   "codemirror_mode": {
    "name": "ipython",
    "version": 3
   },
   "file_extension": ".py",
   "mimetype": "text/x-python",
   "name": "python",
   "nbconvert_exporter": "python",
   "pygments_lexer": "ipython3",
   "version": "3.8.10"
  }
 },
 "nbformat": 4,
 "nbformat_minor": 5
}
